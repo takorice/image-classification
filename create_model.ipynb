{
  "nbformat": 4,
  "nbformat_minor": 0,
  "metadata": {
    "colab": {
      "name": "20201120_final_subject_create_model.ipynb",
      "provenance": [],
      "collapsed_sections": [],
      "toc_visible": true
    },
    "kernelspec": {
      "name": "python3",
      "display_name": "Python 3"
    },
    "accelerator": "GPU"
  },
  "cells": [
    {
      "cell_type": "markdown",
      "metadata": {
        "id": "1GURNH_bRUmW"
      },
      "source": [
        "## モデル構築、学習\n",
        "VGG16をFine Tuningし、オリジナルの画像分類器を作成する。  \n",
        "分類器では、ラーメン、うどん、蕎麦の分類を行う。"
      ]
    },
    {
      "cell_type": "markdown",
      "metadata": {
        "id": "03Yk5-UwCd-e"
      },
      "source": [
        "### 画像のディレクトリを設定"
      ]
    },
    {
      "cell_type": "code",
      "metadata": {
        "id": "NMjXsZxOSJeV"
      },
      "source": [
        "# Google Driveのマウント\n",
        "from google.colab import drive\n",
        "drive.mount('/content/drive')"
      ],
      "execution_count": null,
      "outputs": []
    },
    {
      "cell_type": "code",
      "metadata": {
        "id": "24L5Zlg4R491"
      },
      "source": [
        "# ディレクトリを設定する\n",
        "data_dir=\"/content/drive/My Drive/image-classification/\" # 自分のフォルダに書き換え。"
      ],
      "execution_count": null,
      "outputs": []
    },
    {
      "cell_type": "code",
      "metadata": {
        "id": "_a09Ft29SitX"
      },
      "source": [
        "# 画像データセットのディレクトリを設定\n",
        "imagepath=data_dir+\"/dataset/\""
      ],
      "execution_count": null,
      "outputs": []
    },
    {
      "cell_type": "markdown",
      "metadata": {
        "id": "JchC4jJFeYWS"
      },
      "source": [
        "### VGG16 Fine Tuning"
      ]
    },
    {
      "cell_type": "code",
      "metadata": {
        "colab": {
          "base_uri": "https://localhost:8080/"
        },
        "id": "gPVX9wGiQWsW",
        "outputId": "0dde0c0c-2d9e-4f12-ca71-5f21bf2b49ef"
      },
      "source": [
        "# tensorFlow のバージョン確認\n",
        "import tensorflow as tf\n",
        "print(tf.__version__)"
      ],
      "execution_count": null,
      "outputs": [
        {
          "output_type": "stream",
          "text": [
            "2.3.0\n"
          ],
          "name": "stdout"
        }
      ]
    },
    {
      "cell_type": "code",
      "metadata": {
        "id": "KEaIYagIRRuG"
      },
      "source": [
        "# ライブラリのインポート\n",
        "from keras.models import Sequential, Model\n",
        "from keras.layers import Input, Activation, Dropout, Flatten, Dense\n",
        "from keras.applications.vgg16 import VGG16, preprocess_input, decode_predictions\n",
        "from keras.preprocessing import image\n",
        "from keras.preprocessing.image import ImageDataGenerator\n",
        "from keras.optimizers import SGD\n",
        "from keras.callbacks import EarlyStopping,ModelCheckpoint\n",
        "\n",
        "import numpy as np\n",
        "from PIL import Image\n",
        "from IPython.display import display\n",
        "import matplotlib.pyplot as plt\n",
        "\n",
        "# model = VGG16()\n",
        "# model.summary()"
      ],
      "execution_count": null,
      "outputs": []
    },
    {
      "cell_type": "code",
      "metadata": {
        "id": "wy3b6PBdxSD6"
      },
      "source": [
        "# パラメータの設定\n",
        "NUM_CATEGORIES = 3 # 分類数\n",
        "IMAGE_SIZE = 224 # 画像サイズ\n",
        "BATCH_SIZE = 16 # バッチサイズ\n",
        "EPOC_SIZE = 100 # エポック数\n",
        "NUM_TRAINING = 302 # 訓練データ数\n",
        "NUM_VALIDATION = 111 # 検証データ数"
      ],
      "execution_count": null,
      "outputs": []
    },
    {
      "cell_type": "markdown",
      "metadata": {
        "id": "g4c3lvPPMb9l"
      },
      "source": [
        "#### VGG16を基にモデルの構築"
      ]
    },
    {
      "cell_type": "code",
      "metadata": {
        "colab": {
          "base_uri": "https://localhost:8080/"
        },
        "id": "Mr6Ow5ZkyP97",
        "outputId": "4ecb619e-5c43-4d62-cbc5-a44a819947bd"
      },
      "source": [
        "# VGG16をベースモデルに設定\n",
        "input_tensor = Input(shape=(IMAGE_SIZE, IMAGE_SIZE, 3))\n",
        "base_model = VGG16(weights='imagenet', include_top=False, input_tensor=input_tensor)\n",
        "\n",
        "# FC層を構築\n",
        "top_model = Sequential()\n",
        "top_model.add(Flatten(input_shape=base_model.output_shape[1:]))\n",
        "top_model.add(Dense(256, activation='relu'))\n",
        "top_model.add(Dropout(0.5))\n",
        "top_model.add(Dense(NUM_CATEGORIES, activation='softmax'))\n",
        "\n",
        "# VGG16モデルにFC層を結合\n",
        "model = Model(inputs=base_model.input, outputs=top_model(base_model.output))\n",
        "\n",
        "# VGG16の図の青色の部分は重みを固定（frozen）\n",
        "for layer in model.layers[:15]:\n",
        "    layer.trainable = False\n",
        "\n",
        "# 多クラス分類を指定\n",
        "model.compile(\n",
        "    loss='categorical_crossentropy',\n",
        "    optimizer=SGD(lr=1e-3, momentum=0.9),\n",
        "    metrics=['accuracy']\n",
        ")\n",
        "\n",
        "# ネットワークの確認\n",
        "model.summary()"
      ],
      "execution_count": null,
      "outputs": [
        {
          "output_type": "stream",
          "text": [
            "Model: \"functional_11\"\n",
            "_________________________________________________________________\n",
            "Layer (type)                 Output Shape              Param #   \n",
            "=================================================================\n",
            "input_12 (InputLayer)        [(None, 224, 224, 3)]     0         \n",
            "_________________________________________________________________\n",
            "block1_conv1 (Conv2D)        (None, 224, 224, 64)      1792      \n",
            "_________________________________________________________________\n",
            "block1_conv2 (Conv2D)        (None, 224, 224, 64)      36928     \n",
            "_________________________________________________________________\n",
            "block1_pool (MaxPooling2D)   (None, 112, 112, 64)      0         \n",
            "_________________________________________________________________\n",
            "block2_conv1 (Conv2D)        (None, 112, 112, 128)     73856     \n",
            "_________________________________________________________________\n",
            "block2_conv2 (Conv2D)        (None, 112, 112, 128)     147584    \n",
            "_________________________________________________________________\n",
            "block2_pool (MaxPooling2D)   (None, 56, 56, 128)       0         \n",
            "_________________________________________________________________\n",
            "block3_conv1 (Conv2D)        (None, 56, 56, 256)       295168    \n",
            "_________________________________________________________________\n",
            "block3_conv2 (Conv2D)        (None, 56, 56, 256)       590080    \n",
            "_________________________________________________________________\n",
            "block3_conv3 (Conv2D)        (None, 56, 56, 256)       590080    \n",
            "_________________________________________________________________\n",
            "block3_pool (MaxPooling2D)   (None, 28, 28, 256)       0         \n",
            "_________________________________________________________________\n",
            "block4_conv1 (Conv2D)        (None, 28, 28, 512)       1180160   \n",
            "_________________________________________________________________\n",
            "block4_conv2 (Conv2D)        (None, 28, 28, 512)       2359808   \n",
            "_________________________________________________________________\n",
            "block4_conv3 (Conv2D)        (None, 28, 28, 512)       2359808   \n",
            "_________________________________________________________________\n",
            "block4_pool (MaxPooling2D)   (None, 14, 14, 512)       0         \n",
            "_________________________________________________________________\n",
            "block5_conv1 (Conv2D)        (None, 14, 14, 512)       2359808   \n",
            "_________________________________________________________________\n",
            "block5_conv2 (Conv2D)        (None, 14, 14, 512)       2359808   \n",
            "_________________________________________________________________\n",
            "block5_conv3 (Conv2D)        (None, 14, 14, 512)       2359808   \n",
            "_________________________________________________________________\n",
            "block5_pool (MaxPooling2D)   (None, 7, 7, 512)         0         \n",
            "_________________________________________________________________\n",
            "sequential_7 (Sequential)    (None, 3)                 6423555   \n",
            "=================================================================\n",
            "Total params: 21,138,243\n",
            "Trainable params: 13,502,979\n",
            "Non-trainable params: 7,635,264\n",
            "_________________________________________________________________\n"
          ],
          "name": "stdout"
        }
      ]
    },
    {
      "cell_type": "code",
      "metadata": {
        "colab": {
          "base_uri": "https://localhost:8080/"
        },
        "id": "k87OyslwtY19",
        "outputId": "1765708b-bdec-43fc-a8dc-435087b9c1a3"
      },
      "source": [
        "# 訓練データと検証データを生成するジェネレータを作成\n",
        "train_datagen = ImageDataGenerator(\n",
        "    rescale=1.0 / 255,\n",
        "    rotation_range=15,\n",
        "    shear_range=0.2,\n",
        "    zoom_range=0.2,\n",
        "    horizontal_flip=True\n",
        ")\n",
        "\n",
        "test_datagen = ImageDataGenerator(rescale=1.0 / 255)\n",
        "\n",
        "train_generator = train_datagen.flow_from_directory(\n",
        "    imagepath+'train',\n",
        "    target_size=(IMAGE_SIZE, IMAGE_SIZE),\n",
        "    batch_size=BATCH_SIZE,\n",
        "    class_mode='categorical',\n",
        "    shuffle=True\n",
        ")\n",
        "\n",
        "validation_generator = test_datagen.flow_from_directory(\n",
        "    imagepath+'validation',\n",
        "    target_size=(IMAGE_SIZE, IMAGE_SIZE),\n",
        "    batch_size=BATCH_SIZE,\n",
        "    class_mode='categorical',\n",
        "    shuffle=True\n",
        ")\n",
        "# 読み込み結果（画像数）が表示される"
      ],
      "execution_count": null,
      "outputs": [
        {
          "output_type": "stream",
          "text": [
            "Found 302 images belonging to 3 classes.\n",
            "Found 111 images belonging to 3 classes.\n"
          ],
          "name": "stdout"
        }
      ]
    },
    {
      "cell_type": "code",
      "metadata": {
        "colab": {
          "base_uri": "https://localhost:8080/"
        },
        "id": "zzIHNBxNgxZ1",
        "outputId": "25998360-e2a7-4302-d281-c4a51a89effc"
      },
      "source": [
        "# 学習\n",
        "history = model.fit_generator(\n",
        "    train_generator,\n",
        "    steps_per_epoch=NUM_TRAINING//BATCH_SIZE,\n",
        "    epochs=EPOC_SIZE,\n",
        "    verbose=1,\n",
        "    validation_data=validation_generator,\n",
        "    validation_steps=NUM_VALIDATION//BATCH_SIZE\n",
        ")\n"
      ],
      "execution_count": null,
      "outputs": [
        {
          "output_type": "stream",
          "text": [
            "Epoch 1/100\n",
            "18/18 [==============================] - 5s 254ms/step - loss: 1.1821 - accuracy: 0.4685 - val_loss: 0.8741 - val_accuracy: 0.5208\n",
            "Epoch 2/100\n",
            "18/18 [==============================] - 4s 238ms/step - loss: 0.7645 - accuracy: 0.6643 - val_loss: 0.6713 - val_accuracy: 0.7292\n",
            "Epoch 3/100\n",
            "18/18 [==============================] - 4s 242ms/step - loss: 0.5575 - accuracy: 0.7657 - val_loss: 0.3826 - val_accuracy: 0.8438\n",
            "Epoch 4/100\n",
            "18/18 [==============================] - 4s 239ms/step - loss: 0.4421 - accuracy: 0.8462 - val_loss: 0.5298 - val_accuracy: 0.7708\n",
            "Epoch 5/100\n",
            "18/18 [==============================] - 4s 240ms/step - loss: 0.2935 - accuracy: 0.9056 - val_loss: 0.2921 - val_accuracy: 0.8854\n",
            "Epoch 6/100\n",
            "18/18 [==============================] - 4s 239ms/step - loss: 0.2178 - accuracy: 0.9091 - val_loss: 0.3843 - val_accuracy: 0.8333\n",
            "Epoch 7/100\n",
            "18/18 [==============================] - 4s 240ms/step - loss: 0.1596 - accuracy: 0.9545 - val_loss: 0.5616 - val_accuracy: 0.8021\n",
            "Epoch 8/100\n",
            "18/18 [==============================] - 4s 241ms/step - loss: 0.1731 - accuracy: 0.9545 - val_loss: 0.3702 - val_accuracy: 0.9062\n",
            "Epoch 9/100\n",
            "18/18 [==============================] - 4s 243ms/step - loss: 0.1383 - accuracy: 0.9476 - val_loss: 0.3217 - val_accuracy: 0.9167\n",
            "Epoch 10/100\n",
            "18/18 [==============================] - 4s 239ms/step - loss: 0.0919 - accuracy: 0.9790 - val_loss: 0.4358 - val_accuracy: 0.8438\n",
            "Epoch 11/100\n",
            "18/18 [==============================] - 4s 236ms/step - loss: 0.1673 - accuracy: 0.9196 - val_loss: 0.4106 - val_accuracy: 0.8438\n",
            "Epoch 12/100\n",
            "18/18 [==============================] - 4s 238ms/step - loss: 0.0971 - accuracy: 0.9685 - val_loss: 0.2294 - val_accuracy: 0.9375\n",
            "Epoch 13/100\n",
            "18/18 [==============================] - 4s 241ms/step - loss: 0.0558 - accuracy: 0.9860 - val_loss: 0.4150 - val_accuracy: 0.8646\n",
            "Epoch 14/100\n",
            "18/18 [==============================] - 4s 240ms/step - loss: 0.0351 - accuracy: 0.9895 - val_loss: 0.3555 - val_accuracy: 0.8646\n",
            "Epoch 15/100\n",
            "18/18 [==============================] - 4s 237ms/step - loss: 0.0379 - accuracy: 0.9895 - val_loss: 0.4145 - val_accuracy: 0.8750\n",
            "Epoch 16/100\n",
            "18/18 [==============================] - 4s 234ms/step - loss: 0.0294 - accuracy: 0.9860 - val_loss: 0.4764 - val_accuracy: 0.8854\n",
            "Epoch 17/100\n",
            "18/18 [==============================] - 4s 238ms/step - loss: 0.0470 - accuracy: 0.9860 - val_loss: 0.3379 - val_accuracy: 0.8958\n",
            "Epoch 18/100\n",
            "18/18 [==============================] - 4s 239ms/step - loss: 0.0252 - accuracy: 0.9895 - val_loss: 0.4743 - val_accuracy: 0.8854\n",
            "Epoch 19/100\n",
            "18/18 [==============================] - 4s 237ms/step - loss: 0.0076 - accuracy: 1.0000 - val_loss: 0.3929 - val_accuracy: 0.8958\n",
            "Epoch 20/100\n",
            "18/18 [==============================] - 4s 233ms/step - loss: 0.0086 - accuracy: 0.9965 - val_loss: 0.4900 - val_accuracy: 0.8854\n",
            "Epoch 21/100\n",
            "18/18 [==============================] - 4s 240ms/step - loss: 0.0110 - accuracy: 1.0000 - val_loss: 0.6806 - val_accuracy: 0.8333\n",
            "Epoch 22/100\n",
            "18/18 [==============================] - 4s 240ms/step - loss: 0.0050 - accuracy: 1.0000 - val_loss: 0.5070 - val_accuracy: 0.8646\n",
            "Epoch 23/100\n",
            "18/18 [==============================] - 4s 241ms/step - loss: 0.0038 - accuracy: 1.0000 - val_loss: 0.6464 - val_accuracy: 0.8646\n",
            "Epoch 24/100\n",
            "18/18 [==============================] - 4s 236ms/step - loss: 0.0324 - accuracy: 0.9895 - val_loss: 0.5027 - val_accuracy: 0.9062\n",
            "Epoch 25/100\n",
            "18/18 [==============================] - 4s 237ms/step - loss: 0.0256 - accuracy: 0.9860 - val_loss: 0.5477 - val_accuracy: 0.8854\n",
            "Epoch 26/100\n",
            "18/18 [==============================] - 4s 240ms/step - loss: 0.0077 - accuracy: 1.0000 - val_loss: 0.4682 - val_accuracy: 0.8854\n",
            "Epoch 27/100\n",
            "18/18 [==============================] - 4s 238ms/step - loss: 0.0045 - accuracy: 1.0000 - val_loss: 0.5307 - val_accuracy: 0.8958\n",
            "Epoch 28/100\n",
            "18/18 [==============================] - 4s 246ms/step - loss: 0.0038 - accuracy: 1.0000 - val_loss: 0.4443 - val_accuracy: 0.8958\n",
            "Epoch 29/100\n",
            "18/18 [==============================] - 4s 241ms/step - loss: 0.0093 - accuracy: 0.9965 - val_loss: 0.7577 - val_accuracy: 0.8229\n",
            "Epoch 30/100\n",
            "18/18 [==============================] - 4s 249ms/step - loss: 0.0197 - accuracy: 0.9930 - val_loss: 0.5695 - val_accuracy: 0.8750\n",
            "Epoch 31/100\n",
            "18/18 [==============================] - 4s 241ms/step - loss: 0.0174 - accuracy: 0.9965 - val_loss: 0.3603 - val_accuracy: 0.9271\n",
            "Epoch 32/100\n",
            "18/18 [==============================] - 4s 243ms/step - loss: 0.0053 - accuracy: 1.0000 - val_loss: 0.3873 - val_accuracy: 0.9271\n",
            "Epoch 33/100\n",
            "18/18 [==============================] - 4s 243ms/step - loss: 0.0038 - accuracy: 1.0000 - val_loss: 0.5508 - val_accuracy: 0.8750\n",
            "Epoch 34/100\n",
            "18/18 [==============================] - 4s 241ms/step - loss: 0.0030 - accuracy: 1.0000 - val_loss: 0.3995 - val_accuracy: 0.9167\n",
            "Epoch 35/100\n",
            "18/18 [==============================] - 4s 247ms/step - loss: 0.0016 - accuracy: 1.0000 - val_loss: 0.4827 - val_accuracy: 0.9062\n",
            "Epoch 36/100\n",
            "18/18 [==============================] - 4s 246ms/step - loss: 0.0016 - accuracy: 1.0000 - val_loss: 0.5837 - val_accuracy: 0.8854\n",
            "Epoch 37/100\n",
            "18/18 [==============================] - 4s 241ms/step - loss: 0.0034 - accuracy: 1.0000 - val_loss: 0.6589 - val_accuracy: 0.8646\n",
            "Epoch 38/100\n",
            "18/18 [==============================] - 4s 240ms/step - loss: 0.0045 - accuracy: 0.9965 - val_loss: 0.7883 - val_accuracy: 0.8542\n",
            "Epoch 39/100\n",
            "18/18 [==============================] - 4s 240ms/step - loss: 0.0212 - accuracy: 0.9930 - val_loss: 0.6005 - val_accuracy: 0.8542\n",
            "Epoch 40/100\n",
            "18/18 [==============================] - 4s 242ms/step - loss: 0.0024 - accuracy: 1.0000 - val_loss: 0.5111 - val_accuracy: 0.8542\n",
            "Epoch 41/100\n",
            "18/18 [==============================] - 4s 246ms/step - loss: 0.0056 - accuracy: 1.0000 - val_loss: 0.5536 - val_accuracy: 0.8854\n",
            "Epoch 42/100\n",
            "18/18 [==============================] - 4s 244ms/step - loss: 0.0128 - accuracy: 0.9965 - val_loss: 0.4824 - val_accuracy: 0.8750\n",
            "Epoch 43/100\n",
            "18/18 [==============================] - 4s 247ms/step - loss: 0.0037 - accuracy: 1.0000 - val_loss: 0.5351 - val_accuracy: 0.8750\n",
            "Epoch 44/100\n",
            "18/18 [==============================] - 4s 244ms/step - loss: 0.0029 - accuracy: 1.0000 - val_loss: 0.7029 - val_accuracy: 0.8542\n",
            "Epoch 45/100\n",
            "18/18 [==============================] - 4s 240ms/step - loss: 0.0083 - accuracy: 0.9965 - val_loss: 0.9118 - val_accuracy: 0.8333\n",
            "Epoch 46/100\n",
            "18/18 [==============================] - 4s 243ms/step - loss: 0.0353 - accuracy: 0.9860 - val_loss: 0.7302 - val_accuracy: 0.8750\n",
            "Epoch 47/100\n",
            "18/18 [==============================] - 4s 243ms/step - loss: 0.0091 - accuracy: 0.9965 - val_loss: 0.5435 - val_accuracy: 0.9062\n",
            "Epoch 48/100\n",
            "18/18 [==============================] - 4s 247ms/step - loss: 0.0100 - accuracy: 0.9965 - val_loss: 0.6548 - val_accuracy: 0.9062\n",
            "Epoch 49/100\n",
            "18/18 [==============================] - 4s 242ms/step - loss: 0.0100 - accuracy: 0.9965 - val_loss: 0.7706 - val_accuracy: 0.8438\n",
            "Epoch 50/100\n",
            "18/18 [==============================] - 4s 242ms/step - loss: 0.0078 - accuracy: 0.9965 - val_loss: 0.4032 - val_accuracy: 0.9271\n",
            "Epoch 51/100\n",
            "18/18 [==============================] - 4s 240ms/step - loss: 0.0046 - accuracy: 1.0000 - val_loss: 0.5725 - val_accuracy: 0.8854\n",
            "Epoch 52/100\n",
            "18/18 [==============================] - 4s 241ms/step - loss: 0.0021 - accuracy: 1.0000 - val_loss: 0.6819 - val_accuracy: 0.8854\n",
            "Epoch 53/100\n",
            "18/18 [==============================] - 4s 243ms/step - loss: 0.0011 - accuracy: 1.0000 - val_loss: 0.6120 - val_accuracy: 0.8854\n",
            "Epoch 54/100\n",
            "18/18 [==============================] - 4s 244ms/step - loss: 0.0058 - accuracy: 0.9965 - val_loss: 0.6791 - val_accuracy: 0.8854\n",
            "Epoch 55/100\n",
            "18/18 [==============================] - 4s 240ms/step - loss: 9.6958e-04 - accuracy: 1.0000 - val_loss: 0.6500 - val_accuracy: 0.8750\n",
            "Epoch 56/100\n",
            "18/18 [==============================] - 4s 237ms/step - loss: 0.0022 - accuracy: 1.0000 - val_loss: 0.6865 - val_accuracy: 0.8646\n",
            "Epoch 57/100\n",
            "18/18 [==============================] - 4s 243ms/step - loss: 0.0022 - accuracy: 1.0000 - val_loss: 0.8275 - val_accuracy: 0.8438\n",
            "Epoch 58/100\n",
            "18/18 [==============================] - 4s 241ms/step - loss: 0.0136 - accuracy: 0.9930 - val_loss: 0.8121 - val_accuracy: 0.8646\n",
            "Epoch 59/100\n",
            "18/18 [==============================] - 4s 244ms/step - loss: 0.0119 - accuracy: 0.9965 - val_loss: 0.8279 - val_accuracy: 0.8438\n",
            "Epoch 60/100\n",
            "18/18 [==============================] - 4s 248ms/step - loss: 0.0140 - accuracy: 0.9965 - val_loss: 0.8473 - val_accuracy: 0.8542\n",
            "Epoch 61/100\n",
            "18/18 [==============================] - 4s 247ms/step - loss: 0.0120 - accuracy: 0.9965 - val_loss: 0.6613 - val_accuracy: 0.8646\n",
            "Epoch 62/100\n",
            "18/18 [==============================] - 4s 244ms/step - loss: 0.0782 - accuracy: 0.9755 - val_loss: 0.5490 - val_accuracy: 0.8750\n",
            "Epoch 63/100\n",
            "18/18 [==============================] - 4s 241ms/step - loss: 0.0580 - accuracy: 0.9826 - val_loss: 0.5132 - val_accuracy: 0.8854\n",
            "Epoch 64/100\n",
            "18/18 [==============================] - 4s 236ms/step - loss: 0.0082 - accuracy: 1.0000 - val_loss: 0.5088 - val_accuracy: 0.9167\n",
            "Epoch 65/100\n",
            "18/18 [==============================] - 4s 243ms/step - loss: 0.0039 - accuracy: 1.0000 - val_loss: 0.4881 - val_accuracy: 0.8958\n",
            "Epoch 66/100\n",
            "18/18 [==============================] - 5s 251ms/step - loss: 0.0022 - accuracy: 1.0000 - val_loss: 0.6272 - val_accuracy: 0.8854\n",
            "Epoch 67/100\n",
            "18/18 [==============================] - 5s 251ms/step - loss: 0.0016 - accuracy: 1.0000 - val_loss: 0.6881 - val_accuracy: 0.8750\n",
            "Epoch 68/100\n",
            "18/18 [==============================] - 4s 237ms/step - loss: 0.0086 - accuracy: 0.9965 - val_loss: 0.4762 - val_accuracy: 0.8750\n",
            "Epoch 69/100\n",
            "18/18 [==============================] - 4s 242ms/step - loss: 0.0413 - accuracy: 0.9930 - val_loss: 0.7441 - val_accuracy: 0.8854\n",
            "Epoch 70/100\n",
            "18/18 [==============================] - 4s 242ms/step - loss: 0.0157 - accuracy: 0.9930 - val_loss: 0.7651 - val_accuracy: 0.8750\n",
            "Epoch 71/100\n",
            "18/18 [==============================] - 4s 241ms/step - loss: 0.0057 - accuracy: 1.0000 - val_loss: 0.6108 - val_accuracy: 0.8750\n",
            "Epoch 72/100\n",
            "18/18 [==============================] - 4s 244ms/step - loss: 0.0028 - accuracy: 1.0000 - val_loss: 0.6938 - val_accuracy: 0.8646\n",
            "Epoch 73/100\n",
            "18/18 [==============================] - 4s 243ms/step - loss: 0.0022 - accuracy: 1.0000 - val_loss: 0.6448 - val_accuracy: 0.8958\n",
            "Epoch 74/100\n",
            "18/18 [==============================] - 4s 240ms/step - loss: 0.0017 - accuracy: 1.0000 - val_loss: 0.6750 - val_accuracy: 0.8854\n",
            "Epoch 75/100\n",
            "18/18 [==============================] - 4s 239ms/step - loss: 9.1064e-04 - accuracy: 1.0000 - val_loss: 0.7069 - val_accuracy: 0.8646\n",
            "Epoch 76/100\n",
            "18/18 [==============================] - 4s 239ms/step - loss: 0.0015 - accuracy: 1.0000 - val_loss: 0.6824 - val_accuracy: 0.8542\n",
            "Epoch 77/100\n",
            "18/18 [==============================] - 4s 239ms/step - loss: 8.9361e-04 - accuracy: 1.0000 - val_loss: 0.5791 - val_accuracy: 0.8646\n",
            "Epoch 78/100\n",
            "18/18 [==============================] - 4s 237ms/step - loss: 4.9039e-04 - accuracy: 1.0000 - val_loss: 0.6956 - val_accuracy: 0.8646\n",
            "Epoch 79/100\n",
            "18/18 [==============================] - 4s 243ms/step - loss: 8.7204e-04 - accuracy: 1.0000 - val_loss: 0.7424 - val_accuracy: 0.8646\n",
            "Epoch 80/100\n",
            "18/18 [==============================] - 4s 238ms/step - loss: 0.0052 - accuracy: 1.0000 - val_loss: 0.6224 - val_accuracy: 0.8958\n",
            "Epoch 81/100\n",
            "18/18 [==============================] - 4s 239ms/step - loss: 0.0013 - accuracy: 1.0000 - val_loss: 0.6938 - val_accuracy: 0.8542\n",
            "Epoch 82/100\n",
            "18/18 [==============================] - 4s 237ms/step - loss: 0.0025 - accuracy: 1.0000 - val_loss: 0.7158 - val_accuracy: 0.8542\n",
            "Epoch 83/100\n",
            "18/18 [==============================] - 4s 240ms/step - loss: 0.0012 - accuracy: 1.0000 - val_loss: 0.5050 - val_accuracy: 0.8854\n",
            "Epoch 84/100\n",
            "18/18 [==============================] - 4s 239ms/step - loss: 0.0013 - accuracy: 1.0000 - val_loss: 0.6825 - val_accuracy: 0.8958\n",
            "Epoch 85/100\n",
            "18/18 [==============================] - 4s 240ms/step - loss: 0.0013 - accuracy: 1.0000 - val_loss: 0.3878 - val_accuracy: 0.9062\n",
            "Epoch 86/100\n",
            "18/18 [==============================] - 4s 242ms/step - loss: 4.9240e-04 - accuracy: 1.0000 - val_loss: 0.7704 - val_accuracy: 0.8646\n",
            "Epoch 87/100\n",
            "18/18 [==============================] - 4s 235ms/step - loss: 1.5606e-04 - accuracy: 1.0000 - val_loss: 0.6273 - val_accuracy: 0.9062\n",
            "Epoch 88/100\n",
            "18/18 [==============================] - 4s 237ms/step - loss: 2.5753e-04 - accuracy: 1.0000 - val_loss: 0.4411 - val_accuracy: 0.8958\n",
            "Epoch 89/100\n",
            "18/18 [==============================] - 4s 237ms/step - loss: 3.5181e-04 - accuracy: 1.0000 - val_loss: 0.5605 - val_accuracy: 0.8958\n",
            "Epoch 90/100\n",
            "18/18 [==============================] - 4s 237ms/step - loss: 1.9948e-04 - accuracy: 1.0000 - val_loss: 0.7647 - val_accuracy: 0.8750\n",
            "Epoch 91/100\n",
            "18/18 [==============================] - 4s 244ms/step - loss: 8.1525e-04 - accuracy: 1.0000 - val_loss: 0.6540 - val_accuracy: 0.9062\n",
            "Epoch 92/100\n",
            "18/18 [==============================] - 4s 244ms/step - loss: 8.5912e-04 - accuracy: 1.0000 - val_loss: 0.7505 - val_accuracy: 0.8958\n",
            "Epoch 93/100\n",
            "18/18 [==============================] - 4s 239ms/step - loss: 4.1192e-04 - accuracy: 1.0000 - val_loss: 0.5334 - val_accuracy: 0.9062\n",
            "Epoch 94/100\n",
            "18/18 [==============================] - 4s 238ms/step - loss: 3.3932e-04 - accuracy: 1.0000 - val_loss: 0.8205 - val_accuracy: 0.8750\n",
            "Epoch 95/100\n",
            "18/18 [==============================] - 4s 241ms/step - loss: 1.4169e-04 - accuracy: 1.0000 - val_loss: 0.7521 - val_accuracy: 0.8854\n",
            "Epoch 96/100\n",
            "18/18 [==============================] - 4s 244ms/step - loss: 4.3961e-04 - accuracy: 1.0000 - val_loss: 0.8374 - val_accuracy: 0.8750\n",
            "Epoch 97/100\n",
            "18/18 [==============================] - 4s 242ms/step - loss: 0.0013 - accuracy: 1.0000 - val_loss: 0.8458 - val_accuracy: 0.8750\n",
            "Epoch 98/100\n",
            "18/18 [==============================] - 4s 238ms/step - loss: 0.0010 - accuracy: 1.0000 - val_loss: 0.7086 - val_accuracy: 0.8750\n",
            "Epoch 99/100\n",
            "18/18 [==============================] - 4s 242ms/step - loss: 3.8276e-04 - accuracy: 1.0000 - val_loss: 0.7297 - val_accuracy: 0.8854\n",
            "Epoch 100/100\n",
            "18/18 [==============================] - 4s 237ms/step - loss: 2.3816e-04 - accuracy: 1.0000 - val_loss: 0.6949 - val_accuracy: 0.8854\n"
          ],
          "name": "stdout"
        }
      ]
    },
    {
      "cell_type": "markdown",
      "metadata": {
        "id": "4SpZEtThqoXz"
      },
      "source": [
        "### 学習結果の評価"
      ]
    },
    {
      "cell_type": "code",
      "metadata": {
        "colab": {
          "base_uri": "https://localhost:8080/",
          "height": 573
        },
        "id": "woTG4A2ugLVw",
        "outputId": "6102504a-4e30-4fed-ff0c-48a807861f78"
      },
      "source": [
        "# 精度の描画\n",
        "plt.plot(history.history['accuracy'])\n",
        "plt.plot(history.history['val_accuracy'])\n",
        "plt.title('model accuracy')\n",
        "plt.ylabel('accuracy')\n",
        "plt.xlabel('epoch')\n",
        "plt.legend(['train', 'test'], loc='upper left')\n",
        "plt.show()\n",
        "\n",
        "# 誤差の描画\n",
        "plt.plot(history.history['loss'])\n",
        "plt.plot(history.history['val_loss'])\n",
        "plt.title('model loss')\n",
        "plt.ylabel('loss')\n",
        "plt.xlabel('epoch')\n",
        "plt.legend(['train', 'test'], loc='upper left')\n",
        "plt.show()"
      ],
      "execution_count": null,
      "outputs": [
        {
          "output_type": "display_data",
          "data": {
            "image/png": "[encoded data removed]",
            "text/plain": [
              "<Figure size 432x288 with 1 Axes>"
            ]
          },
          "metadata": {
            "tags": [],
            "needs_background": "light"
          }
        },
        {
          "output_type": "display_data",
          "data": {
            "image/png": "[encoded data removed]",
            "text/plain": [
              "<Figure size 432x288 with 1 Axes>"
            ]
          },
          "metadata": {
            "tags": [],
            "needs_background": "light"
          }
        }
      ]
    },
    {
      "cell_type": "code",
      "metadata": {
        "id": "qzUzudnEgP8m"
      },
      "source": [
        "# モデルを保存\n",
        "model.save(\"image_classification_model.h5\",include_optimizer=False)"
      ],
      "execution_count": null,
      "outputs": []
    }
  ]
}